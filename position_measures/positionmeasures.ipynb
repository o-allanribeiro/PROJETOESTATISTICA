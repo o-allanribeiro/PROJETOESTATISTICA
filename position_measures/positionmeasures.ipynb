{
 "cells": [
  {
   "cell_type": "markdown",
   "metadata": {},
   "source": []
  },
  {
   "cell_type": "code",
   "execution_count": 53,
   "metadata": {},
   "outputs": [],
   "source": [
    "import latex\n",
    "import numpy as np\n",
    "import io\n",
    "\n"
   ]
  },
  {
   "cell_type": "code",
   "execution_count": 57,
   "metadata": {},
   "outputs": [
    {
     "data": {
      "text/plain": [
       "['{1}', '{9}', '{3}', '{4}', '{8}', '{5}']"
      ]
     },
     "execution_count": 57,
     "metadata": {},
     "output_type": "execute_result"
    }
   ],
   "source": [
    "import re\n",
    "\n",
    "formula_exemplo = r\"\\overline{x} = \\frac{\\text{1} + \\text{9} + \\text{3} + \\text{4} + \\text{8}}{5}\"\n",
    "numeros = re.findall(r\"\\{\\d+\\}\", formula_exemplo)\n",
    "numeros\n"
   ]
  },
  {
   "cell_type": "code",
   "execution_count": 58,
   "metadata": {},
   "outputs": [
    {
     "data": {
      "text/plain": [
       "[1, 9, 3, 4, 8, 5]"
      ]
     },
     "execution_count": 58,
     "metadata": {},
     "output_type": "execute_result"
    }
   ],
   "source": [
    "numeros_inteiros = [int(n[1:-1]) for n in numeros]\n",
    "numeros_inteiros\n"
   ]
  },
  {
   "cell_type": "code",
   "execution_count": 59,
   "metadata": {},
   "outputs": [
    {
     "data": {
      "text/plain": [
       "5.0"
      ]
     },
     "execution_count": 59,
     "metadata": {},
     "output_type": "execute_result"
    }
   ],
   "source": [
    "media = np.mean(numeros_inteiros)\n",
    "media\n"
   ]
  },
  {
   "cell_type": "code",
   "execution_count": 60,
   "metadata": {},
   "outputs": [
    {
     "ename": "RuntimeError",
     "evalue": "No available builder could be instantiated. Please make sure LaTeX is installed.",
     "output_type": "error",
     "traceback": [
      "\u001b[1;31m---------------------------------------------------------------------------\u001b[0m",
      "\u001b[1;31mRuntimeError\u001b[0m                              Traceback (most recent call last)",
      "Cell \u001b[1;32mIn[60], line 9\u001b[0m\n\u001b[0;32m      3\u001b[0m formula_resultado \u001b[39m=\u001b[39m \u001b[39mr\u001b[39m\u001b[39m\"\u001b[39m\u001b[39m\\\u001b[39m\u001b[39moverline\u001b[39m\u001b[39m{x}\u001b[39;00m\u001b[39m \u001b[39m\u001b[39m\\\u001b[39m\u001b[39mapprox \u001b[39m\u001b[39m\"\u001b[39m \u001b[39m+\u001b[39m \u001b[39mstr\u001b[39m(media)\n\u001b[0;32m      7\u001b[0m codigo_latex \u001b[39m=\u001b[39m \u001b[39mr\u001b[39m\u001b[39m\"\u001b[39m\u001b[39m\\\u001b[39m\u001b[39mdisplaystyle \u001b[39m\u001b[39m\"\u001b[39m \u001b[39m+\u001b[39m formula_media \u001b[39m+\u001b[39m \u001b[39mr\u001b[39m\u001b[39m\"\u001b[39m\u001b[39m\\\\\u001b[39;00m\u001b[39m \u001b[39m\u001b[39m\\\u001b[39m\u001b[39mdisplaystyle \u001b[39m\u001b[39m\"\u001b[39m \u001b[39m+\u001b[39m formula_exemplo \u001b[39m+\u001b[39m \u001b[39mr\u001b[39m\u001b[39m\"\u001b[39m\u001b[39m\\\\\u001b[39;00m\u001b[39m \u001b[39m\u001b[39m\\\u001b[39m\u001b[39mdisplaystyle \u001b[39m\u001b[39m\"\u001b[39m \u001b[39m+\u001b[39m formula_resultado\n\u001b[1;32m----> 9\u001b[0m pdf \u001b[39m=\u001b[39m latex\u001b[39m.\u001b[39;49mbuild_pdf(codigo_latex)\n\u001b[0;32m     10\u001b[0m pdf\u001b[39m.\u001b[39msave_to(\u001b[39m\"\u001b[39m\u001b[39mexemplo.pdf\u001b[39m\u001b[39m\"\u001b[39m)\n",
      "File \u001b[1;32mc:\\Users\\allan\\PROJETOESTATISTICA\\venv\\lib\\site-packages\\latex\\build.py:234\u001b[0m, in \u001b[0;36mbuild_pdf\u001b[1;34m(source, texinputs, builder)\u001b[0m\n\u001b[0;32m    232\u001b[0m     \u001b[39mreturn\u001b[39;00m builder\u001b[39m.\u001b[39mbuild_pdf(source, texinputs)\n\u001b[0;32m    233\u001b[0m \u001b[39melse\u001b[39;00m:\n\u001b[1;32m--> 234\u001b[0m     \u001b[39mraise\u001b[39;00m \u001b[39mRuntimeError\u001b[39;00m(\u001b[39m'\u001b[39m\u001b[39mNo available builder could be instantiated. \u001b[39m\u001b[39m'\u001b[39m\n\u001b[0;32m    235\u001b[0m                        \u001b[39m'\u001b[39m\u001b[39mPlease make sure LaTeX is installed.\u001b[39m\u001b[39m'\u001b[39m)\n",
      "\u001b[1;31mRuntimeError\u001b[0m: No available builder could be instantiated. Please make sure LaTeX is installed."
     ]
    }
   ],
   "source": [
    "\n",
    "formula_media = r\"\\overline{x} = \\frac{\\sum_{i=1}^{n} x_i}{n}\"\n",
    "formula_exemplo = r\"\\overline{x} = \\frac{\" + \" + \".join([r\"\\text{\" + str(np.random.randint(-10,10)) + r\"}\" for i in range(5)]) + r\"}{5}\"\n",
    "formula_resultado = r\"\\overline{x} \\approx \" + str(media)\n",
    "\n",
    "\n",
    "\n",
    "codigo_latex = r\"\\displaystyle \" + formula_media + r\"\\\\ \\displaystyle \" + formula_exemplo + r\"\\\\ \\displaystyle \" + formula_resultado\n",
    "\n",
    "pdf = latex.build_pdf(codigo_latex)\n",
    "pdf.save_to(\"exemplo.pdf\")"
   ]
  }
 ],
 "metadata": {
  "kernelspec": {
   "display_name": "venv",
   "language": "python",
   "name": "python3"
  },
  "language_info": {
   "codemirror_mode": {
    "name": "ipython",
    "version": 3
   },
   "file_extension": ".py",
   "mimetype": "text/x-python",
   "name": "python",
   "nbconvert_exporter": "python",
   "pygments_lexer": "ipython3",
   "version": "3.8.10"
  },
  "orig_nbformat": 4
 },
 "nbformat": 4,
 "nbformat_minor": 2
}
