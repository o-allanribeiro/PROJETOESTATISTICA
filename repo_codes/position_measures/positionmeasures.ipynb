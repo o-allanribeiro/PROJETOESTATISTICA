{
 "cells": [
  {
   "cell_type": "markdown",
   "metadata": {},
   "source": [
    "## Importação das bibliotecas"
   ]
  },
  {
   "cell_type": "code",
   "execution_count": 22,
   "metadata": {},
   "outputs": [],
   "source": [
    "# Importa a biblioteca Pandas\n",
    "import pandas as pd\n",
    "import statistics"
   ]
  },
  {
   "cell_type": "code",
   "execution_count": 18,
   "metadata": {},
   "outputs": [
    {
     "name": "stdout",
     "output_type": "stream",
     "text": [
      "A série de tempo: 0     10\n",
      "1     12\n",
      "2     15\n",
      "3     20\n",
      "4     25\n",
      "5     30\n",
      "6     35\n",
      "7     40\n",
      "8     45\n",
      "9     45\n",
      "10    50\n",
      "dtype: int64\n",
      "O número de valores na série é: 11\n"
     ]
    }
   ],
   "source": [
    "# Criamos uma série de dados numéricos para exemplificar usando pd.Series\n",
    "dados = pd.Series([10, 12, 15, 20, 25, 30, 35, 40, 45, 45, 50])\n",
    "count = dados.count()\n",
    "print(f\"A série de tempo: {(dados)}\")\n",
    "print(f\"O número de valores na série é: {count}\")"
   ]
  },
  {
   "cell_type": "markdown",
   "metadata": {},
   "source": [
    "## Média\n",
    "Média é a soma dos valores dividida pelo número de valores. Representa o valor central ou típico dos dados.\n",
    "\n",
    "A média é representada pelo símbolo $\\bar{x}$ ou μ, dependendo se os dados são de uma amostra ou de uma população.\n",
    "\n",
    "$\\bar{x} = \\frac{\\sum_{i=1}^n x_i}{n}$\n",
    "\n",
    "Representação do nosso exemplo:\n",
    "\n",
    "$\\bar{x} = \\frac{(10 + 12 + 15 + 20 + 25 + 30 + 35 + 40 + 45 + 45 + 50)}{11} \\\\ \\bar{x} = 29.727272727272727$\n"
   ]
  },
  {
   "cell_type": "code",
   "execution_count": 13,
   "metadata": {},
   "outputs": [
    {
     "name": "stdout",
     "output_type": "stream",
     "text": [
      "A média é: 29.727272727272727\n"
     ]
    }
   ],
   "source": [
    "# Calcula a média\n",
    "media = dados.mean()\n",
    "print(f\"A média é: {media}\")"
   ]
  },
  {
   "cell_type": "markdown",
   "metadata": {},
   "source": [
    "## Mediana\n",
    "A mediana é uma medida de posição estatística que representa o valor que divide o conjunto de dados ordenados em duas partes iguais. \n",
    "\n",
    "Ela é calculada encontrando o valor central dos dados se eles tiverem um número ímpar de elementos, ou a média dos dois valores centrais se eles tiverem um número par de elementos. \n",
    "\n",
    "A mediana é representada pelo símbolo $M$ ou $Q_2$​, dependendo se os dados são de uma amostra ou de uma população.\n",
    "\n",
    "$M = \\begin{cases} x_{\\frac{n+1}{2}}, & \\text{se } n \\text{ é ímpar} \\\\ \\frac{x_{\\frac{n}{2}} + x_{\\frac{n}{2} + 1}}{2}, & \\text{se } n \\text{ é par} \\end{cases}$\n",
    "\n",
    "Observando nosso exemplo, $(10, 12, 15, 20, 25, 30, 35, 40, 45, 45, 50)$, logo usaremos a seguinte fórmula:\n",
    "$M = x_{\\frac{11+1}{2}} \\\\ \\text{n = número de elementos no exemplo = 11} \\\\ M = x_{6} \\\\ \\text{6 é a posição do elemento} \\\\ M = 30 \\\\ (10, 12, 15, 20, 25, \\boxed{30}, 35, 40, 45, 45, 50)$\n",
    "\n",
    "Caso usássemos um conjunto de elementos pares, conforme a serie a seguir, $(10, 12, 15, 20, 25, 30, 35, 40, 45, 45)$, usamos a outra fórmula:\n",
    "\n",
    "$M = \\frac{x_{\\frac{n}{2}} + x_{\\frac{n}{2} + 1}}{2} \n",
    "\\\\ \n",
    "\\text{n = número de elementos = 10} \n",
    "\\\\  \n",
    "M = \\frac{x_{\\frac{10}{2}} + x_{\\frac{10}{2} + 1}}{2} \n",
    "\\\\\n",
    "M = \\frac{x_{5} + x_{6}}{2} \n",
    "\\\\ \n",
    "\\text{Encontramos as posições que devemos substituir na fórmula posição 5 e posição 6} \n",
    "\\\\ \n",
    "M = \\frac{{25} + {30}}{2} \n",
    "\\\\ \n",
    "(10, 12, 15, 20, \\boxed{25}, \\boxed{30}, 35, 40, 45, 45) \n",
    "\\\\ \n",
    "M = 27.5\n",
    "$"
   ]
  },
  {
   "cell_type": "code",
   "execution_count": 19,
   "metadata": {},
   "outputs": [
    {
     "name": "stdout",
     "output_type": "stream",
     "text": [
      "A mediana com os elementos impar é: 30.0\n",
      "A mediana com os elementos par é: 27.5\n"
     ]
    }
   ],
   "source": [
    "# Calcula a mediana da série criada\n",
    "mediana_impar = dados.median()\n",
    "# Criamos uma série de dados numéricos para exemplificar 10 elementos\n",
    "dados_sample2 = pd.Series([10, 12, 15, 20, 25, 30, 35, 40, 45, 45])\n",
    "mediana_par = dados_sample2.median()\n",
    "\n",
    "print(f\"A mediana com os elementos impar é: {mediana_impar}\")\n",
    "print(f\"A mediana com os elementos par é: {mediana_par}\")"
   ]
  },
  {
   "cell_type": "markdown",
   "metadata": {},
   "source": [
    "## Moda\n",
    "A moda é uma medida de posição estatística que representa o valor mais frequente de um conjunto de dados. \n",
    "\n",
    "Ela é calculada contando quantas vezes cada valor aparece nos dados e escolhendo o que tem a maior frequência. \n",
    "\n",
    "A moda é representada pelo símbolo $M_o$​ ou $f_m$​, dependendo se os dados são de uma amostra ou de uma população.\n",
    "\n",
    "$M_o = \\text{valor de } x_i \\text{ que maximiza } f_i$\n",
    "\n",
    "No exemplo temos uma repetição, $(10, 12, 15, 20, 25, 30, 35, 40, \\boxed{45}, \\boxed{45}, 50)$\n"
   ]
  },
  {
   "cell_type": "code",
   "execution_count": 23,
   "metadata": {},
   "outputs": [
    {
     "name": "stdout",
     "output_type": "stream",
     "text": [
      "A moda é 45\n"
     ]
    }
   ],
   "source": [
    "# Calcula a moda\n",
    "# Se a série tiver mais de um valor mais frequente, vai retornar uma série com todos eles\n",
    "moda = statistics.mode(dados)\n",
    "print(f\"A moda é {moda}\")\n"
   ]
  },
  {
   "cell_type": "markdown",
   "metadata": {},
   "source": [
    "## Percentis\n",
    "Os percentis são medidas de posição estatística que representam os valores que dividem o conjunto de dados ordenados em 100 partes iguais. \n",
    "\n",
    "Eles são usados para comparar a distribuição dos dados e identificar valores extremos ou atípicos. \n",
    "\n",
    "O método Tukey é um dos métodos para definir os percentis, baseado na seguinte fórmula:\n",
    "\n",
    "$P_k = Q_1 + k \\times (Q_3 - Q_1)$\n",
    "\n",
    "Onde Pk​ é o percentil de ordem k, Q1​ é o primeiro quartil, Q3​ é o terceiro quartil e k é um fator que depende do valor de k. \n",
    "O método Tukey usa os seguintes valores de k:\n",
    "\n",
    "$\\text{Se k = 0.25, então Pk​=Q1​, o primeiro quartil.} \\\\ \\text{Se k=0,5, então Pk​=Q2​, a mediana ou o segundo quartil.} \\\\ \\text{Se k=0,75, então Pk​=Q3​, o terceiro quartil.} \\\\ \\text{Se k=1, então Pk​ é o limite superior ou inferior do intervalo interquartílico, usado para detectar valores atípicos.}$"
   ]
  },
  {
   "cell_type": "code",
   "execution_count": 27,
   "metadata": {},
   "outputs": [
    {
     "name": "stdout",
     "output_type": "stream",
     "text": [
      "Os quartis são [15.0, 30.0, 45.0] respectivamente os percentis Q1 = 25%, Q2 = 50% e Q3 = 75%.\n"
     ]
    }
   ],
   "source": [
    "# Calcula os quartis\n",
    "# Por padrão, usa os percentis 0.25, 0.5 e 0.75 para definir os quartis\n",
    "# Por padrão, usa o método 3 (Tukey) para definir os quartis\n",
    "quartis = statistics.quantiles(dados)\n",
    "print(f\"Os quartis são {quartis} respectivamente os percentis Q1 = 25%, Q2 = 50% e Q3 = 75%.\")"
   ]
  },
  {
   "cell_type": "markdown",
   "metadata": {},
   "source": [
    "Outra maneira do python descrever os dados da serie a ser analisada usando .describe()"
   ]
  },
  {
   "cell_type": "code",
   "execution_count": 10,
   "metadata": {},
   "outputs": [
    {
     "data": {
      "text/plain": [
       "count    11.000000\n",
       "mean     29.727273\n",
       "std      14.311470\n",
       "min      10.000000\n",
       "25%      17.500000\n",
       "50%      30.000000\n",
       "75%      42.500000\n",
       "max      50.000000\n",
       "dtype: float64"
      ]
     },
     "execution_count": 10,
     "metadata": {},
     "output_type": "execute_result"
    }
   ],
   "source": [
    "dados.describe()"
   ]
  }
 ],
 "metadata": {
  "kernelspec": {
   "display_name": "venv",
   "language": "python",
   "name": "python3"
  },
  "language_info": {
   "codemirror_mode": {
    "name": "ipython",
    "version": 3
   },
   "file_extension": ".py",
   "mimetype": "text/x-python",
   "name": "python",
   "nbconvert_exporter": "python",
   "pygments_lexer": "ipython3",
   "version": "3.8.10"
  },
  "orig_nbformat": 4
 },
 "nbformat": 4,
 "nbformat_minor": 2
}
