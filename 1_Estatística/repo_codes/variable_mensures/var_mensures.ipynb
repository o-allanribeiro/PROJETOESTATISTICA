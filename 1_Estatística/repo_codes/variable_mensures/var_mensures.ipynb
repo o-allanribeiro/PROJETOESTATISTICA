{
 "cells": [
  {
   "cell_type": "markdown",
   "metadata": {},
   "source": [
    "## Importando bibliotecas"
   ]
  },
  {
   "cell_type": "code",
   "execution_count": 1,
   "metadata": {},
   "outputs": [],
   "source": [
    "# Importa a biblioteca statistics\n",
    "import statistics"
   ]
  },
  {
   "cell_type": "markdown",
   "metadata": {},
   "source": [
    "### Criar uma lista de dados numéricos para exemplificar"
   ]
  },
  {
   "cell_type": "code",
   "execution_count": 2,
   "metadata": {},
   "outputs": [],
   "source": [
    "# Cria uma lista de dados numéricos\n",
    "dados = [10, 15, 20, 25, 30, 35, 40, 45, 45, 50]"
   ]
  },
  {
   "cell_type": "markdown",
   "metadata": {},
   "source": [
    "# Medidas de variabilidades\n",
    "## Amplitude\n",
    "A amplitude é a medida de variabilidade mais simples, que representa a diferença entre o maior e o menor valor de um conjunto de dados. \n",
    "\n",
    "Ela é calculada subtraindo o menor valor do maior valor.\n",
    "\n",
    "$A = x_max​−x_min​$\n",
    "\n",
    "Onde $A$ é a amplitude, $x_max$​ é o maior valor e $x_min$​ é o menor valor dos dados."
   ]
  },
  {
   "cell_type": "code",
   "execution_count": 3,
   "metadata": {},
   "outputs": [
    {
     "name": "stdout",
     "output_type": "stream",
     "text": [
      "A amplitude é 40\n"
     ]
    }
   ],
   "source": [
    "# Calcula a amplitude\n",
    "amplitude = max(dados) - min(dados)\n",
    "print(f\"A amplitude é {amplitude}\")\n"
   ]
  },
  {
   "cell_type": "markdown",
   "metadata": {},
   "source": [
    "## Desvio médio\n",
    "O desvio médio é uma medida de variabilidade que representa a média dos desvios absolutos dos valores em relação à média de um conjunto de dados. \n",
    "\n",
    "Ele é calculado somando os valores absolutos das diferenças entre cada valor e a média dos dados, e dividindo pelo número de elementos.\n",
    "\n",
    "$D_m = \\frac{\\sum_{i=1}^n |x_i - \\bar{x}|}{n}$\n",
    "\n",
    "Onde $D_m$​ é o desvio médio, $x_i$​ são os valores dos dados, $\\bar{x}$ é a média dos dados e $n$ é o número de elementos dos dados."
   ]
  },
  {
   "cell_type": "code",
   "execution_count": 4,
   "metadata": {},
   "outputs": [
    {
     "name": "stdout",
     "output_type": "stream",
     "text": [
      "A média é 31.5\n",
      "O desvio médio é 11.5\n"
     ]
    }
   ],
   "source": [
    "# Calcula a média\n",
    "media = statistics.mean(dados)\n",
    "print(f\"A média é {media}\")\n",
    "\n",
    "# Calcula o desvio médio\n",
    "desvio_medio = sum([abs(x - media) for x in dados]) / len(dados)\n",
    "print(f\"O desvio médio é {desvio_medio}\")\n"
   ]
  },
  {
   "cell_type": "markdown",
   "metadata": {},
   "source": [
    "## Variância\n",
    "A variância é uma medida de variabilidade que representa o grau de dispersão dos valores em relação à média de um conjunto de dados. \n",
    "\n",
    "Ela é calculada somando os quadrados das diferenças entre cada valor e a média dos dados, e dividindo pelo número de elementos.\n",
    "\n",
    "$S^2 = \\frac{\\sum_{i=1}^n (x_i - \\bar{x})^2}{n}$\n",
    "\n",
    "Onde $S^2$ é a variância, $x_i$​ são os valores dos dados, $\\bar{x}$ é a média dos dados e $n$ é o número de elementos dos dados."
   ]
  },
  {
   "cell_type": "code",
   "execution_count": 5,
   "metadata": {},
   "outputs": [
    {
     "name": "stdout",
     "output_type": "stream",
     "text": [
      "A variância é 170.25\n"
     ]
    }
   ],
   "source": [
    "# Calcula a variância\n",
    "variancia = statistics.pvariance(dados)\n",
    "print(f\"A variância é {variancia}\")"
   ]
  },
  {
   "cell_type": "markdown",
   "metadata": {},
   "source": [
    "## Desvio padrão\n",
    "O desvio padrão é uma medida de variabilidade que representa o grau de dispersão dos valores em relação à média de um conjunto de dados. \n",
    "\n",
    "Ele é calculado tirando a raiz quadrada da variância dos dados.\n",
    "\n",
    "$S = \\sqrt{S^2} = \\sqrt{\\frac{\\sum_{i=1}^n (x_i - \\bar{x})^2}{n}}$\n",
    "\n",
    "Onde $S$ é o desvio padrão, $S^2$ é a variância, $x_i$​ são os valores dos dados, $\\bar{x}$ é a média dos dados e $n$ é o número de elementos dos dados."
   ]
  },
  {
   "cell_type": "code",
   "execution_count": 6,
   "metadata": {},
   "outputs": [
    {
     "name": "stdout",
     "output_type": "stream",
     "text": [
      "O desvio padrão é 13.047988350699889\n"
     ]
    }
   ],
   "source": [
    "# Calcula o desvio padrão\n",
    "desvio_padrao = statistics.pstdev(dados)\n",
    "print(f\"O desvio padrão é {desvio_padrao}\")"
   ]
  }
 ],
 "metadata": {
  "kernelspec": {
   "display_name": "venv",
   "language": "python",
   "name": "python3"
  },
  "language_info": {
   "codemirror_mode": {
    "name": "ipython",
    "version": 3
   },
   "file_extension": ".py",
   "mimetype": "text/x-python",
   "name": "python",
   "nbconvert_exporter": "python",
   "pygments_lexer": "ipython3",
   "version": "3.8.10"
  },
  "orig_nbformat": 4
 },
 "nbformat": 4,
 "nbformat_minor": 2
}
